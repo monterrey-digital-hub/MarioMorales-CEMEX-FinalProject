{
 "cells": [
  {
   "cell_type": "markdown",
   "id": "e7f34588-cc7f-4826-a97f-e39707f1928d",
   "metadata": {
    "tags": []
   },
   "source": [
    "## Load Libraries"
   ]
  },
  {
   "cell_type": "code",
   "execution_count": 2,
   "id": "1f0feb01-b733-4af5-985c-e7c15ac1e2eb",
   "metadata": {},
   "outputs": [],
   "source": [
    "import pandas as pd\n",
    "import numpy as np\n",
    "import time\n",
    "import pickle\n",
    "from functions import training_dataset, PrepareWordLists, selectdata, readdata, cleandatastructure, buildwordsindex, trainingstructuredata, getlistofwords, Create_training_data,predictstructuredata,predict_dataset,Create_Predict_data,Predictive_Model,Build_PredictData \n",
    "from names_dataset import NameDataset\n",
    "\n",
    "from sklearn.dummy import DummyClassifier\n",
    "from sklearn.metrics import (r2_score, mean_squared_error, accuracy_score, precision_score, recall_score,\n",
    "                             f1_score, roc_auc_score, roc_curve, precision_recall_curve, make_scorer,\n",
    "                             confusion_matrix, multilabel_confusion_matrix, ConfusionMatrixDisplay)\n",
    "from sklearn.ensemble import RandomForestClassifier, RandomForestRegressor\n",
    "import xgboost as xgb\n",
    "from sklearn.model_selection import train_test_split, KFold, GridSearchCV, cross_val_score"
   ]
  },
  {
   "cell_type": "code",
   "execution_count": null,
   "id": "e3f9244a-c005-4784-b69d-6646071b0822",
   "metadata": {},
   "outputs": [],
   "source": []
  },
  {
   "cell_type": "markdown",
   "id": "e478834d-7555-465b-be92-9f2191f2e3cf",
   "metadata": {
    "tags": []
   },
   "source": [
    "## Create Predictive Object - Dump Predictive Class"
   ]
  },
  {
   "cell_type": "code",
   "execution_count": 2,
   "id": "d9d05d4c-cfc9-4930-8af1-3c9df3824703",
   "metadata": {},
   "outputs": [],
   "source": [
    "## This notebook requieres Full_Pipeline to create the objects files: ISM_wgwords_uniques, group_mapping, XGBClass_model\n",
    "\n",
    "with open('ISM_wgwords_uniques', 'rb') as f:\n",
    "    ISM_wgwords_uniques = pickle.load(f)\n",
    "with open('group_mapping', 'rb') as f:\n",
    "    group_mapping = pickle.load(f)\n",
    "with open('XGBClass_model', 'rb') as f:\n",
    "    XGBClass_model = pickle.load(f)\n",
    "\n",
    "nd = NameDataset()    \n",
    "\n",
    "    \n",
    "MX_prediction = Predictive_Model()\n",
    "#MX_prediction.fit(ISM_wgwords_uniques, group_mapping, XGBClass_model, nd)\n",
    "MX_prediction.fit('ISM_wgwords_uniques', 'group_mapping', 'XGBClass_model', nd)"
   ]
  },
  {
   "cell_type": "code",
   "execution_count": 12,
   "id": "3cfd224f-d83a-480d-9cc1-02c57fb6a5fc",
   "metadata": {},
   "outputs": [],
   "source": [
    "nd = NameDataset()  "
   ]
  },
  {
   "cell_type": "code",
   "execution_count": 10,
   "id": "d39f6ebf-286f-445c-9273-a85bd41f633f",
   "metadata": {},
   "outputs": [],
   "source": [
    "with open('namedataset', 'wb') as f:\n",
    "    pickle.dump(nd, f, protocol=pickle.HIGHEST_PROTOCOL)"
   ]
  },
  {
   "cell_type": "code",
   "execution_count": 13,
   "id": "38fcf3aa-0cc1-47d4-b2d4-57ed3265a64d",
   "metadata": {},
   "outputs": [],
   "source": [
    "with open('namedataset', 'rb') as f:\n",
    "    nd = pickle.load(f)"
   ]
  },
  {
   "cell_type": "code",
   "execution_count": 11,
   "id": "7ec88ee8-7c8a-4717-bb81-61d1488a253d",
   "metadata": {},
   "outputs": [],
   "source": []
  },
  {
   "cell_type": "code",
   "execution_count": 6,
   "id": "666595b2-5b76-41fb-a9a2-25b89242852e",
   "metadata": {},
   "outputs": [
    {
     "data": {
      "text/plain": [
       "'I-CEX-MXBOSAP-PRCL3'"
      ]
     },
     "execution_count": 6,
     "metadata": {},
     "output_type": "execute_result"
    }
   ],
   "source": [
    "## Just for testing\n",
    "input_ticketid = 'SR12345'\n",
    "#input_fulldesc = 'Ncred no se registran en cuentas por pagarSe revisaron la ncred y no hay Idocs, de favor revisar si el escenario aplica para el circulo operativo          Buen día GSC, \\nSu apoyo por favor en validar cual podría ser el error o si hace falta algo adicional en el proceso de las siguientes facturas, ya que no se registran en cuentas por pagar.\\n\\nConsultando cada Nota si se encuentran con solicitante 7277.\\n\\n[cid:image008.png@01D7CCEA.88FDD8B0]\\n\\nAnexo listado de Notas de crédito:\\n\\nNcred IVA 16%\\n202985294\\n202985295\\n202985297\\n202985298\\n202985299\\n202985300\\n202985301\\n202985302\\n202985303\\n202985304\\n202985305\\n202985456\\n202985457\\n202985458\\n202985459\\n202901.png@01D7CCE8.CF855620]\\nMaría del C85460\\n\\nGracias por su apoyo con el seguimiento.\\n\\nSaludos!\\n\\n[cid:image001.png@01D7CCE8.CF855620]\\nMaría del Carmen Osorio Hernández\\nBUSINESS SERVICE ORGANIZATION MEXICO\\n\\n\\n\\nFrom: Maria Del Carmen Osorio Hernandez\\nSent: Friday, October 29, 2021 5:31 PM\\nTo: Nayeli Tovar Zarate <nayeli.tovar@neoris.com>\\nCc: Javier Alejandro Cantu Briviezca <javieralejandro.cantub@cemex.com>; Maria Isabel Martinez Garza <mariaisabel.martinez@cemex.com>; Martha Laura Saenz Campos <marthalaura.saenzc@cemex.com>\\nSubject: RE: Documentos con IVA 8% en pasivo\\n\\nHola Naye, buenas tardes,\\n\\nPodrias por favor apoyarnos en consultar si hay algún error en las Notas que compartimos?, ya que no se registran en CXP y consultando cada Nota si se encuentran con solicitante 7277.\\n\\n[cid:image008.png@01D7CCEA.88FDD8B0]\\n\\nGracias de antemano por tu amable apoyo!\\n\\nSaludos!\\n\\n[cid:image0armen Osorio Hernández\\nBUSINESS SERVICE ORGANIZATION MEXICO\\n\\n\\n\\nFrom: Martha Laura Saenz Campos <marthalaura.saenzc@cemex.com< mailto:marthalaura.saenzc@cemex.com >>\\nSent: Friday, October 29, 2021 5:08 PM\\nTo: Maria Del Carmen Osorio Hernandez <MariaDelCarmen.OsorioHernandez@cemex.com< mailto:MariaDelCarmen.OsorioHernandez@cemex.com >>; Maria Isabel Martinez Garza <mariaisabel.martinez@cemex.com< mailto:mariaisabel.martinez@cemex.com >>\\nCc: Javier Alejandro Cantu Briviezca <javieralejandro.cantub@cemex.com< mailto:javieralejandro.cantub@cemex.com >>; Nayeli Tovar Zarate <nayeli.tovar@neoris.com< mailto:nayeli.tovar@neoris.com >>\\nSubject: RE: Documentos con IVA 8% en pasivo\\n\\nHola Carmen,\\nSiguen sin aparecer del lado de CXP.\\nSaludos,\\nMS\\n\\nFrom: Maria Del Carmen Osorio Hernandez <MariaDelCarmen.OsorioHernandez@cemex.com< mailto:MariaDelCarmen.OsorioHernandez@cemex.com >>\\nSent: Friday, October 29, 2021 4:01 PM\\nTo: Maria Isabel Martinez Garza <mariaisabel.martinez@cemex.com< mailto:mariaisabel.martinez@cemex.com >>; Martha Laura Saenz Campos <marthalaura.saenzc@cemex.com< mailto:marthalaura.saenzc@cemex.com >>\\nCc: Javier Alejandro Cantu Briviezca <javieralejandro.cantub@cemex.com< mailto:javieralejandro.cantub@cemex.com >>; Nayeli Tovar Zarate <nayeli.tovar@neoris.com< mailto:nayeli.tovar@neoris.com >>\\nSubject: RE: Documentos con IVA 8% en pasivo\\n\\nHola Marisa/ Martha, buenas tardes,\\n\\nLes comparto las Notas de crédito con IVA 16% pendientes que no se habían podido generar, se realizaron en soc 7277 tomando la referencia de la factura original, anexo archivo con las Notas de crédito Cross y las Notas de crédito correctas (Columna G y H).\\n\\nQuedo a la orden para cualquier duda.\\n\\nSaludos!\\n\\n[cid:image001.png@01D7CCE8.CF855620]\\nMaría del Carmen Osorio Hernández\\nBUSINESS SERVICE ORGANIZATION MEXICO\\n\\n\\n\\nFrom: Martha Laura Saenz Campos <marthalaura.saenzc@cemex.com< mailto:marthalaura.saenzc@cemex.com >>\\nSent: Tuesday, October 26, 2021 11:54 AM\\nTo: Maria Del Carmen Osorio Hernandez <MariaDelCarmen.OsorioHernandez@cemex.com< mailto:MariaDelCarmen.OsorioHernandez@cemex.com >>\\nCc: Maria Isabel Martinez Garza <mariaisabel.martinez@cemex.com< mailto:mariaisabel.martinez@cemex.com >>; Javier Alejandro Cantu Briviezca <javieralejandro.cantub@cemex.com< mailto:javieralejandro.cantub@cemex.com >>; Nayeli Tovar Zarate <nayeli.tovar@neoris.com< mailto:nayeli.tovar@neoris.com >>\\nSubject: RE: Documentos con IVA 8% en pasivo\\n\\nHola Carmen,\\n\\nEstas 3 no están registradas del lado de CXP, el resto si:\\n\\nNcred IVA 16%\\nReferencia\\nDocto CXP\\n202591336\\nZLC-03455289\\n#N/A\\n202591344\\nZLC-03455298\\n#N/A\\n202591343\\nZLC-03455297\\n#N/A\\n\\nYa solo tenemos 33 documentos (archivo anexo) con IVA 8%.\\nSaludos,\\nMS\\n\\nFrom: Maria Del Carmen Osorio Hernandez <MariaDelCarmen.OsorioHernandez@cemex.com< mailto:MariaDelCarmen.OsorioHernandez@cemex.com >>\\nSent: Tuesday, October 26, 2021 9:18 AM\\nTo: Martha Laura Saenz Campos <marthalaura.saenzc@cemex.com< mailto:marthalaura.saenzc@cemex.com >>\\nCc: Maria Isabel Martinez Garza <mariaisabel.martinez@cemex.com< mailto:mariaisabel.martinez@cemex.com >>; Javier Alejandro Cantu Briviezca <javieralejandro.cantub@cemex.com< mailto:javieralejandro.cantub@cemex.com >>; Nayeli Tovar Zarate <nayeli.tovar@neoris.com< mailto:nayeli.tovar@neoris.com >>\\nSubject: FW: Documentos con IVA 8% en pasivo\\n\\nHola Martha, buen día,\\n\\nClaro, anexo archivo.\\n\\nCualquier duda quedo a la orden.\\n\\nSaludos!\\n\\nFrom: Martha Laura Saenz Campos <marthalaura.saenzc@cemex.com< mailto:mart'\n",
    "#input_fulldesc = 'CEDISE: AsesoriaUsuario solicita sincronizacion de contraseñas'\n",
    "input_fulldesc = '4518643896GSC, buen día.\\n\\nSe está tratando de reabrir la orden de compra 4518643896 en la transacción ME22N, quitando el indicador de \"Entrega final\" y obtenemos el siguiente error, nos podrían apoyar.\\n\\nEsta orden está liberada parcialmente y si tiene facturas cotejadas pero estaríamos activando y trabajando con lo que aun no se libera.\\n\\n[cid:image001.png@01D7CA98.C7350760]\\n\\nGracias,\\n\\n[cid:image002.png@01D7CA98.C7350760]\\nGrace Bajo Niebla\\nNegociaciones Nacionales - Abasto - México\\nOficina: +52(81)83287357   Celular: +52(81)17905418  CEMEX Net: 805207357\\nDirección: Av. Constitución #444 Pte. C.P.64000. Monterrey, N.L.\\ne-Mail: grace.bajo@cemex.com< mailto:grace.bajo@cemex.com >\\nwww.cemexsupply.com< https://nam04.safelinks.protection.outlook.com/?url=http%3A%2F%2Fwww.cemexsupply.com%2F&data=04%7C01%7Cgrace.bajo%40cemex.com%7Cb309090c3d004258318608d8b1080d81%7C6ee19001d0c445f8af8bff00f16d07e1%7C0%7C0%7C637453995451107045%7CUnknown%7CTWFpbGZsb3d8eyJWIjoiMC4wLjAwMDAiLCJQIjoiV2luMzIiLCJBTiI6Ik1haWwiLCJXVCI6Mn0%3D%7C1000&sdata=MkHcVcWNmRY1qnxcSkIXmvqS5IH1mFE%2BPQic4Pak%2B6M%3D&reserved=0 >\\n\\n\\n\\n[Screenshot 1 saved as attachment image0011635291932313.png by e-mail listener.]\\n[Screenshot 2 saved as attachment image0021635291932341.png by e-mail listener.]'\n",
    "\n",
    "input_country = 'Mexico'\n",
    "\n",
    "MX_prediction.predict(input_ticketid,input_fulldesc,input_country)"
   ]
  },
  {
   "cell_type": "code",
   "execution_count": null,
   "id": "1f8f829f-10fb-4e14-a5da-a3bacbe5613c",
   "metadata": {},
   "outputs": [],
   "source": []
  },
  {
   "cell_type": "code",
   "execution_count": 17,
   "id": "d4f0c59e-31b2-4af4-a9d4-fe36171d0799",
   "metadata": {},
   "outputs": [],
   "source": [
    "x_data.to_excel(f\"./Data/x_data.xlsx\")"
   ]
  },
  {
   "cell_type": "code",
   "execution_count": 5,
   "id": "bef2b24d-7acf-438b-894b-13930b74adc1",
   "metadata": {},
   "outputs": [
    {
     "name": "stdout",
     "output_type": "stream",
     "text": [
      "TICKETID                       SR12345\n",
      "COUNTRY_Mexico                     1.0\n",
      "C-CEX-MX-EA-BASIS-PR-CX-L3         9.0\n",
      "I-CEX-LATAM-AFST-CO-PR-MNT-L3    121.0\n",
      "I-CEX-MX-BO-JDE-GSC-L1           225.0\n",
      "I-CEX-NOAM-IT-GSC-L1             225.0\n",
      "...                                ...\n",
      "I-CEX-MX-IT-SEC-CAB                0.0\n",
      "I-CEX-MX-IT-SCCM-APP-L2            1.0\n",
      "I-CEX-MX-CONTACTCENTER-GV-L2       0.0\n",
      "I-CEX-MX-CONTACTCENTER-GV-L1       0.0\n",
      "I-CEX-IN-IT-BURA-DTC-L2            0.0\n",
      "\n",
      "[156 rows x 1 columns]\n"
     ]
    }
   ],
   "source": [
    "print(x_data.T)"
   ]
  },
  {
   "cell_type": "code",
   "execution_count": 6,
   "id": "724dcb1e-a991-4ef7-9236-0a6391320e62",
   "metadata": {},
   "outputs": [],
   "source": [
    "## Cretate File Prediction Object\n",
    "with open('MX_Prediction', 'wb') as f:\n",
    "    pickle.dump(MX_prediction, f, protocol=pickle.HIGHEST_PROTOCOL)"
   ]
  },
  {
   "cell_type": "code",
   "execution_count": null,
   "id": "9d8356ec-1892-4f0a-a55b-41093ff9a424",
   "metadata": {},
   "outputs": [],
   "source": []
  },
  {
   "cell_type": "markdown",
   "id": "f0a8687c-71f6-47b4-a165-7e55d322b083",
   "metadata": {
    "tags": []
   },
   "source": [
    "## Create Predictive Model - Instancing Predictive Model"
   ]
  },
  {
   "cell_type": "code",
   "execution_count": 13,
   "id": "a32b1157-f563-4245-bd55-5e963ef83754",
   "metadata": {},
   "outputs": [
    {
     "data": {
      "text/plain": [
       "('I-CEX-MX-COM-SAP-SL-APP-L3', 'SR12345', 'Mexico')"
      ]
     },
     "execution_count": 13,
     "metadata": {},
     "output_type": "execute_result"
    }
   ],
   "source": [
    "## Just for testing\n",
    "with open('ISM_wgwords_uniques', 'rb') as f:\n",
    "    ISM_wgwords_uniques = pickle.load(f)\n",
    "with open('group_mapping', 'rb') as f:\n",
    "    group_mapping = pickle.load(f)\n",
    "with open('XGBClass_model', 'rb') as f:\n",
    "    predict_model = pickle.load(f)\n",
    "with open('namedataset', 'rb') as f:\n",
    "    nd = pickle.load(f)\n",
    "\n",
    "input_ticketid = 'SR12345'\n",
    "input_country = 'Mexico'\n",
    "input_fulldesc = 'Ncred no se registran en cuentas por pagarSe revisaron la ncred y no hay Idocs, de favor revisar si el escenario aplica para el circulo operativo          Buen día GSC, \\nSu apoyo por favor en validar cual podría ser el error o si hace falta algo adicional en el proceso de las siguientes facturas, ya que no se registran en cuentas por pagar.\\n\\nConsultando cada Nota si se encuentran con solicitante 7277.\\n\\n[cid:image008.png@01D7CCEA.88FDD8B0]\\n\\nAnexo listado de Notas de crédito:\\n\\nNcred IVA 16%\\n202985294\\n202985295\\n202985297\\n202985298\\n202985299\\n202985300\\n202985301\\n202985302\\n202985303\\n202985304\\n202985305\\n202985456\\n202985457\\n202985458\\n202985459\\n202901.png@01D7CCE8.CF855620]\\nMaría del C85460\\n\\nGracias por su apoyo con el seguimiento.\\n\\nSaludos!\\n\\n[cid:image001.png@01D7CCE8.CF855620]\\nMaría del Carmen Osorio Hernández\\nBUSINESS SERVICE ORGANIZATION MEXICO\\n\\n\\n\\nFrom: Maria Del Carmen Osorio Hernandez\\nSent: Friday, October 29, 2021 5:31 PM\\nTo: Nayeli Tovar Zarate <nayeli.tovar@neoris.com>\\nCc: Javier Alejandro Cantu Briviezca <javieralejandro.cantub@cemex.com>; Maria Isabel Martinez Garza <mariaisabel.martinez@cemex.com>; Martha Laura Saenz Campos <marthalaura.saenzc@cemex.com>\\nSubject: RE: Documentos con IVA 8% en pasivo\\n\\nHola Naye, buenas tardes,\\n\\nPodrias por favor apoyarnos en consultar si hay algún error en las Notas que compartimos?, ya que no se registran en CXP y consultando cada Nota si se encuentran con solicitante 7277.\\n\\n[cid:image008.png@01D7CCEA.88FDD8B0]\\n\\nGracias de antemano por tu amable apoyo!\\n\\nSaludos!\\n\\n[cid:image0armen Osorio Hernández\\nBUSINESS SERVICE ORGANIZATION MEXICO\\n\\n\\n\\nFrom: Martha Laura Saenz Campos <marthalaura.saenzc@cemex.com< mailto:marthalaura.saenzc@cemex.com >>\\nSent: Friday, October 29, 2021 5:08 PM\\nTo: Maria Del Carmen Osorio Hernandez <MariaDelCarmen.OsorioHernandez@cemex.com< mailto:MariaDelCarmen.OsorioHernandez@cemex.com >>; Maria Isabel Martinez Garza <mariaisabel.martinez@cemex.com< mailto:mariaisabel.martinez@cemex.com >>\\nCc: Javier Alejandro Cantu Briviezca <javieralejandro.cantub@cemex.com< mailto:javieralejandro.cantub@cemex.com >>; Nayeli Tovar Zarate <nayeli.tovar@neoris.com< mailto:nayeli.tovar@neoris.com >>\\nSubject: RE: Documentos con IVA 8% en pasivo\\n\\nHola Carmen,\\nSiguen sin aparecer del lado de CXP.\\nSaludos,\\nMS\\n\\nFrom: Maria Del Carmen Osorio Hernandez <MariaDelCarmen.OsorioHernandez@cemex.com< mailto:MariaDelCarmen.OsorioHernandez@cemex.com >>\\nSent: Friday, October 29, 2021 4:01 PM\\nTo: Maria Isabel Martinez Garza <mariaisabel.martinez@cemex.com< mailto:mariaisabel.martinez@cemex.com >>; Martha Laura Saenz Campos <marthalaura.saenzc@cemex.com< mailto:marthalaura.saenzc@cemex.com >>\\nCc: Javier Alejandro Cantu Briviezca <javieralejandro.cantub@cemex.com< mailto:javieralejandro.cantub@cemex.com >>; Nayeli Tovar Zarate <nayeli.tovar@neoris.com< mailto:nayeli.tovar@neoris.com >>\\nSubject: RE: Documentos con IVA 8% en pasivo\\n\\nHola Marisa/ Martha, buenas tardes,\\n\\nLes comparto las Notas de crédito con IVA 16% pendientes que no se habían podido generar, se realizaron en soc 7277 tomando la referencia de la factura original, anexo archivo con las Notas de crédito Cross y las Notas de crédito correctas (Columna G y H).\\n\\nQuedo a la orden para cualquier duda.\\n\\nSaludos!\\n\\n[cid:image001.png@01D7CCE8.CF855620]\\nMaría del Carmen Osorio Hernández\\nBUSINESS SERVICE ORGANIZATION MEXICO\\n\\n\\n\\nFrom: Martha Laura Saenz Campos <marthalaura.saenzc@cemex.com< mailto:marthalaura.saenzc@cemex.com >>\\nSent: Tuesday, October 26, 2021 11:54 AM\\nTo: Maria Del Carmen Osorio Hernandez <MariaDelCarmen.OsorioHernandez@cemex.com< mailto:MariaDelCarmen.OsorioHernandez@cemex.com >>\\nCc: Maria Isabel Martinez Garza <mariaisabel.martinez@cemex.com< mailto:mariaisabel.martinez@cemex.com >>; Javier Alejandro Cantu Briviezca <javieralejandro.cantub@cemex.com< mailto:javieralejandro.cantub@cemex.com >>; Nayeli Tovar Zarate <nayeli.tovar@neoris.com< mailto:nayeli.tovar@neoris.com >>\\nSubject: RE: Documentos con IVA 8% en pasivo\\n\\nHola Carmen,\\n\\nEstas 3 no están registradas del lado de CXP, el resto si:\\n\\nNcred IVA 16%\\nReferencia\\nDocto CXP\\n202591336\\nZLC-03455289\\n#N/A\\n202591344\\nZLC-03455298\\n#N/A\\n202591343\\nZLC-03455297\\n#N/A\\n\\nYa solo tenemos 33 documentos (archivo anexo) con IVA 8%.\\nSaludos,\\nMS\\n\\nFrom: Maria Del Carmen Osorio Hernandez <MariaDelCarmen.OsorioHernandez@cemex.com< mailto:MariaDelCarmen.OsorioHernandez@cemex.com >>\\nSent: Tuesday, October 26, 2021 9:18 AM\\nTo: Martha Laura Saenz Campos <marthalaura.saenzc@cemex.com< mailto:marthalaura.saenzc@cemex.com >>\\nCc: Maria Isabel Martinez Garza <mariaisabel.martinez@cemex.com< mailto:mariaisabel.martinez@cemex.com >>; Javier Alejandro Cantu Briviezca <javieralejandro.cantub@cemex.com< mailto:javieralejandro.cantub@cemex.com >>; Nayeli Tovar Zarate <nayeli.tovar@neoris.com< mailto:nayeli.tovar@neoris.com >>\\nSubject: FW: Documentos con IVA 8% en pasivo\\n\\nHola Martha, buen día,\\n\\nClaro, anexo archivo.\\n\\nCualquier duda quedo a la orden.\\n\\nSaludos!\\n\\nFrom: Martha Laura Saenz Campos <marthalaura.saenzc@cemex.com< mailto:mart'\n",
    "#input_fulldesc = 'CEDISE: AsesoriaUsuario solicita sincronizacion de contraseñas'\n",
    "#input_fulldesc = '4518643896GSC, buen día.\\n\\nSe está tratando de reabrir la orden de compra 4518643896 en la transacción ME22N, quitando el indicador de \"Entrega final\" y obtenemos el siguiente error, nos podrían apoyar.\\n\\nEsta orden está liberada parcialmente y si tiene facturas cotejadas pero estaríamos activando y trabajando con lo que aun no se libera.\\n\\n[cid:image001.png@01D7CA98.C7350760]\\n\\nGracias,\\n\\n[cid:image002.png@01D7CA98.C7350760]\\nGrace Bajo Niebla\\nNegociaciones Nacionales - Abasto - México\\nOficina: +52(81)83287357   Celular: +52(81)17905418  CEMEX Net: 805207357\\nDirección: Av. Constitución #444 Pte. C.P.64000. Monterrey, N.L.\\ne-Mail: grace.bajo@cemex.com< mailto:grace.bajo@cemex.com >\\nwww.cemexsupply.com< https://nam04.safelinks.protection.outlook.com/?url=http%3A%2F%2Fwww.cemexsupply.com%2F&data=04%7C01%7Cgrace.bajo%40cemex.com%7Cb309090c3d004258318608d8b1080d81%7C6ee19001d0c445f8af8bff00f16d07e1%7C0%7C0%7C637453995451107045%7CUnknown%7CTWFpbGZsb3d8eyJWIjoiMC4wLjAwMDAiLCJQIjoiV2luMzIiLCJBTiI6Ik1haWwiLCJXVCI6Mn0%3D%7C1000&sdata=MkHcVcWNmRY1qnxcSkIXmvqS5IH1mFE%2BPQic4Pak%2B6M%3D&reserved=0 >\\n\\n\\n\\n[Screenshot 1 saved as attachment image0011635291932313.png by e-mail listener.]\\n[Screenshot 2 saved as attachment image0021635291932341.png by e-mail listener.]'\n",
    "\n",
    "\n",
    "BPD = Build_PredictData()\n",
    "BPD.fit(ISM_wgwords_uniques, group_mapping, nd)\n",
    "X_data = BPD.transform(input_ticketid,input_fulldesc,input_country)\n",
    "\n",
    "y_predicted = predict_model.predict(X_data)\n",
    "\n",
    "BPD.real_value(y_predicted)"
   ]
  },
  {
   "cell_type": "code",
   "execution_count": null,
   "id": "a5c6b3b0-1028-41d8-8fe3-2dc93ba10c34",
   "metadata": {},
   "outputs": [],
   "source": []
  },
  {
   "cell_type": "markdown",
   "id": "54270311-2355-4b78-a52f-5183ed39d14f",
   "metadata": {
    "tags": []
   },
   "source": [
    "## Conclusions\n",
    "\n",
    "It is possible to do a dumpo of a models\n",
    "But, Is not possible to do a dump of a class"
   ]
  },
  {
   "cell_type": "code",
   "execution_count": 23,
   "id": "6724b55f-c103-40e3-8f0a-f6cce96f57f9",
   "metadata": {},
   "outputs": [],
   "source": []
  },
  {
   "cell_type": "code",
   "execution_count": 6,
   "id": "2f839cda-b0b0-41e4-b6de-a362b3162594",
   "metadata": {},
   "outputs": [],
   "source": [
    "#with open('BPD', 'wb') as f:\n",
    "#    pickle.dump(BPD, f, protocol=pickle.HIGHEST_PROTOCOL)"
   ]
  },
  {
   "cell_type": "code",
   "execution_count": 7,
   "id": "36d76c78-4bd1-4bc1-865f-6b4e8d4f55d4",
   "metadata": {},
   "outputs": [],
   "source": [
    "#with open('BPD', 'rb') as f:\n",
    "#    BPD_clon = pickle.load(f)\n"
   ]
  },
  {
   "cell_type": "code",
   "execution_count": 12,
   "id": "660ac7ba-3322-4260-b841-a384444adc27",
   "metadata": {},
   "outputs": [],
   "source": [
    "#BPD.real_value(y_predicted)"
   ]
  },
  {
   "cell_type": "code",
   "execution_count": 15,
   "id": "4edcbcb5-228a-4bd9-b9a1-166b8bcd2ef0",
   "metadata": {},
   "outputs": [],
   "source": []
  },
  {
   "cell_type": "code",
   "execution_count": null,
   "id": "ffd27293-8e2d-42a5-aec7-21968e90c454",
   "metadata": {},
   "outputs": [],
   "source": []
  }
 ],
 "metadata": {
  "kernelspec": {
   "display_name": "Python 3 (ipykernel)",
   "language": "python",
   "name": "python3"
  },
  "language_info": {
   "codemirror_mode": {
    "name": "ipython",
    "version": 3
   },
   "file_extension": ".py",
   "mimetype": "text/x-python",
   "name": "python",
   "nbconvert_exporter": "python",
   "pygments_lexer": "ipython3",
   "version": "3.9.7"
  }
 },
 "nbformat": 4,
 "nbformat_minor": 5
}
