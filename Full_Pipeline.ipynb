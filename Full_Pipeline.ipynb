{
 "cells": [
  {
   "cell_type": "markdown",
   "id": "9a44a596-50c9-4a16-bd1c-2e80ffe5e4f8",
   "metadata": {
    "tags": []
   },
   "source": [
    "## Load Libraries"
   ]
  },
  {
   "cell_type": "code",
   "execution_count": 1,
   "id": "f47713a0-df20-4390-aeb3-358b6d286b70",
   "metadata": {},
   "outputs": [],
   "source": [
    "import pandas as pd\n",
    "import numpy as np\n",
    "import time\n",
    "import pickle\n",
    "from functions import training_dataset, PrepareWordLists, selectdata, readdata, cleandatastructure, buildwordsindex, trainingstructuredata, getlistofwords, Create_training_data\n",
    "\n",
    "from sklearn.dummy import DummyClassifier\n",
    "from sklearn.metrics import (r2_score, mean_squared_error, accuracy_score, precision_score, recall_score,\n",
    "                             f1_score, roc_auc_score, roc_curve, precision_recall_curve, make_scorer,\n",
    "                             confusion_matrix, multilabel_confusion_matrix, ConfusionMatrixDisplay)\n",
    "from sklearn.ensemble import RandomForestClassifier, RandomForestRegressor\n",
    "import xgboost as xgb\n",
    "from sklearn.model_selection import train_test_split, KFold, GridSearchCV, cross_val_score\n"
   ]
  },
  {
   "cell_type": "code",
   "execution_count": null,
   "id": "1761e8b5-aaff-4fd2-a29b-65e9982cdb34",
   "metadata": {},
   "outputs": [],
   "source": []
  },
  {
   "cell_type": "markdown",
   "id": "a0170300-11d9-4de9-83ae-4decd8411fc2",
   "metadata": {
    "tags": []
   },
   "source": [
    "## Import Source Data"
   ]
  },
  {
   "cell_type": "code",
   "execution_count": 12,
   "id": "192587a2-7f25-43b2-a9dd-76e0def14141",
   "metadata": {},
   "outputs": [
    {
     "name": "stderr",
     "output_type": "stream",
     "text": [
      "C:\\Users\\mamoralessr\\Documents\\GitHubRepo\\MarioMorales-CEMEX-FinalProject\\functions.py:56: SettingWithCopyWarning: \n",
      "A value is trying to be set on a copy of a slice from a DataFrame.\n",
      "Try using .loc[row_indexer,col_indexer] = value instead\n",
      "\n",
      "See the caveats in the documentation: https://pandas.pydata.org/pandas-docs/stable/user_guide/indexing.html#returning-a-view-versus-a-copy\n",
      "  ISM_SourceData_test['FULLDESC'] = ISM_SourceData_test['TITLE']+ ' ' +ISM_SourceData_test['LONGDESCRIPTION']\n",
      "C:\\Users\\mamoralessr\\Anaconda3\\lib\\site-packages\\pandas\\core\\generic.py:6392: SettingWithCopyWarning: \n",
      "A value is trying to be set on a copy of a slice from a DataFrame\n",
      "\n",
      "See the caveats in the documentation: https://pandas.pydata.org/pandas-docs/stable/user_guide/indexing.html#returning-a-view-versus-a-copy\n",
      "  return self._update_inplace(result)\n",
      "C:\\Users\\mamoralessr\\Documents\\GitHubRepo\\MarioMorales-CEMEX-FinalProject\\functions.py:63: SettingWithCopyWarning: \n",
      "A value is trying to be set on a copy of a slice from a DataFrame.\n",
      "Try using .loc[row_indexer,col_indexer] = value instead\n",
      "\n",
      "See the caveats in the documentation: https://pandas.pydata.org/pandas-docs/stable/user_guide/indexing.html#returning-a-view-versus-a-copy\n",
      "  ISM_test['FULLDESC'] = ISM_test['FULLDESC'].str.upper()\n"
     ]
    }
   ],
   "source": [
    "#ISM_SourceData = readdata()\n",
    "#with open('ISM_SourceData.dataframe', 'wb') as f:\n",
    "#    pickle.dump(ISM_SourceData, f, protocol=pickle.HIGHEST_PROTOCOL)\n",
    "with open('ISM_SourceData.dataframe', 'rb') as f:\n",
    "    ISM_SourceData = pickle.load(f)\n",
    "ISM_SD_TestRange = selectdata(ISM_SourceData, \"2021-10-15\", \"2021-11-15\")\n",
    "ISM_SD_TestRange \n",
    "country_list = ['Mexico']\n",
    "ISM_SD_TestRange = cleandatastructure(ISM_SD_TestRange,country_list )"
   ]
  },
  {
   "cell_type": "code",
   "execution_count": 13,
   "id": "e0ed0efd-c916-4772-a539-20190cf4380c",
   "metadata": {},
   "outputs": [
    {
     "name": "stdout",
     "output_type": "stream",
     "text": [
      "<class 'pandas.core.frame.DataFrame'>\n",
      "Int64Index: 14033 entries, 29 to 428978\n",
      "Data columns (total 4 columns):\n",
      " #   Column                 Non-Null Count  Dtype \n",
      "---  ------                 --------------  ----- \n",
      " 0   TICKETID               14033 non-null  object\n",
      " 1   FULLDESC               14033 non-null  object\n",
      " 2   AffectedPersonCountry  14033 non-null  object\n",
      " 3   OWNERGROUP             14033 non-null  object\n",
      "dtypes: object(4)\n",
      "memory usage: 548.2+ KB\n"
     ]
    }
   ],
   "source": [
    "ISM_SD_TestRange.info()"
   ]
  },
  {
   "cell_type": "code",
   "execution_count": 5,
   "id": "b2ac2228-842a-4fbb-83c9-091ecfd9902a",
   "metadata": {},
   "outputs": [],
   "source": [
    "## Create Set of Data\n",
    "ISM_test_set1=ISM_SD_TestRange[0:4999]\n",
    "ISM_test_set2=ISM_SD_TestRange[5000:9999]\n",
    "ISM_test_set3=ISM_SD_TestRange[10000:14033]\n",
    "## Create Data Sets (if requrire partition for performance)\n",
    "#datasets1_2_3 = [ISM_test_set1,ISM_test_set2,ISM_test_set3]\n",
    "datasets1 = [ISM_test_set1]\n",
    "datasets2 = [ISM_test_set2]\n",
    "datasets3 = [ISM_test_set3]"
   ]
  },
  {
   "cell_type": "code",
   "execution_count": 35,
   "id": "f08f6e5f-c1e7-4361-941d-95c27e745a8c",
   "metadata": {},
   "outputs": [
    {
     "data": {
      "text/plain": [
       "'SOPORTE GENERAL - CARGA MASIVA \\xa0 @KAREN POR FAVOR NOS\\\\NPUEDES APOYAR A SOLICITAR CAMBIOS MASIVOS DEL CAMPO DE GESTIÓN DE TIEMPOS DEL\\\\NPERSONAL ANEXO? ACTUALMENTE TIENEN UN 1 Y DEBERÍAN TENER UN 0 (SIN EVALUACIÓN)\\\\NYA QUE ESTAMOS REALIZANDO UNAS MODIFICACIONES EN LA FORMA DE GENERAR LA NOMINA\\\\NDE ESTOS EMPLEADOS. \\\\N\\\\N\\\\N\\\\N \\xa0 \\\\N\\\\N\\\\N\\\\N QUEDAMOS ATENTOS A TUS COMENTARIOS. \\\\N\\\\N\\\\N\\\\N \\xa0 \\\\N\\\\N\\\\N\\\\N SALUDOS Y GRACIAS. \\\\N\\\\N\\\\N\\\\N LUIS \\\\N\\\\N'"
      ]
     },
     "execution_count": 35,
     "metadata": {},
     "output_type": "execute_result"
    }
   ],
   "source": [
    "ISM_test_set1.iloc[1500]['FULLDESC']"
   ]
  },
  {
   "cell_type": "markdown",
   "id": "dfe8c799-75ae-4c79-b1ac-9d190cfb2319",
   "metadata": {
    "tags": []
   },
   "source": [
    "## Create WordList by Group"
   ]
  },
  {
   "cell_type": "code",
   "execution_count": 6,
   "id": "7df0d632-f902-4740-b737-2d5647ea5108",
   "metadata": {},
   "outputs": [
    {
     "name": "stdout",
     "output_type": "stream",
     "text": [
      "2022-04-02 16:33:17.127902\n",
      "1\n",
      "2022-04-02 16:33:25.344569\n",
      "501\n",
      "2022-04-02 16:33:35.007482\n",
      "1001\n",
      "2022-04-02 16:33:44.043655\n",
      "1501\n",
      "2022-04-02 16:33:52.813338\n",
      "2001\n",
      "2022-04-02 16:34:02.881507\n",
      "2501\n",
      "2022-04-02 16:34:14.390623\n",
      "3001\n",
      "2022-04-02 16:34:31.232221\n",
      "3501\n",
      "2022-04-02 16:34:49.722389\n",
      "4001\n",
      "2022-04-02 16:35:07.497431\n",
      "4501\n",
      "2022-04-02 16:35:27.362113\n",
      "Words:  11856  Groups:  127  Countries: 1\n"
     ]
    }
   ],
   "source": [
    "## Create Dataframe Structure \n",
    "ISM_wgwords = pd.DataFrame(columns=['COUNTRY', 'OWNERGROUP', 'WORDS'])\n",
    "## Process Dataset to create Wordlists\n",
    "## Could be several process to reduce performance issues and finally consolidate on ISM_wgwords_all\n",
    "ISM_wgwords1 = PrepareWordLists(datasets1, ISM_wgwords)"
   ]
  },
  {
   "cell_type": "code",
   "execution_count": 7,
   "id": "2dda8555-9913-4f76-8840-12c83b174f67",
   "metadata": {},
   "outputs": [
    {
     "name": "stdout",
     "output_type": "stream",
     "text": [
      "2022-04-02 16:35:52.674849\n",
      "1\n",
      "2022-04-02 16:36:01.299277\n",
      "501\n",
      "2022-04-02 16:36:11.184050\n",
      "1001\n",
      "2022-04-02 16:36:20.537976\n",
      "1501\n",
      "2022-04-02 16:36:30.687216\n",
      "2001\n",
      "2022-04-02 16:36:41.784789\n",
      "2501\n",
      "2022-04-02 16:36:54.964697\n",
      "3001\n",
      "2022-04-02 16:37:10.323901\n",
      "3501\n",
      "2022-04-02 16:37:27.162456\n",
      "4001\n",
      "2022-04-02 16:37:44.920278\n",
      "4501\n",
      "2022-04-02 16:38:06.451083\n",
      "Words:  12594  Groups:  133  Countries: 1\n"
     ]
    }
   ],
   "source": [
    "time.sleep(15)\n",
    "ISM_wgwords2 = PrepareWordLists(datasets2, ISM_wgwords)"
   ]
  },
  {
   "cell_type": "code",
   "execution_count": 8,
   "id": "52c8268c-ec1a-45fc-ae99-2b56f5949848",
   "metadata": {},
   "outputs": [
    {
     "name": "stdout",
     "output_type": "stream",
     "text": [
      "2022-04-02 16:38:31.178057\n",
      "1\n",
      "2022-04-02 16:38:39.849672\n",
      "501\n",
      "2022-04-02 16:38:49.304664\n",
      "1001\n",
      "2022-04-02 16:38:59.842255\n",
      "1501\n",
      "2022-04-02 16:39:10.544614\n",
      "2001\n",
      "2022-04-02 16:39:21.668222\n",
      "2501\n",
      "2022-04-02 16:39:35.838572\n",
      "3001\n",
      "2022-04-02 16:39:51.223821\n",
      "3501\n",
      "2022-04-02 16:40:08.054042\n",
      "4001\n",
      "2022-04-02 16:40:09.174759\n",
      "Words:  10998  Groups:  118  Countries: 1\n"
     ]
    }
   ],
   "source": [
    "time.sleep(15)\n",
    "ISM_wgwords3 = PrepareWordLists(datasets3, ISM_wgwords)"
   ]
  },
  {
   "cell_type": "code",
   "execution_count": 9,
   "id": "87ac241d-1ee6-4139-b35c-1747e1f9895c",
   "metadata": {},
   "outputs": [],
   "source": [
    "ISM_wgwords_all = ISM_wgwords1.append(ISM_wgwords2)\n",
    "ISM_wgwords_all = ISM_wgwords_all.append(ISM_wgwords3)\n",
    "## Build Indexed wordlist dataframe\n",
    "ISM_wgwords_uniques = buildwordsindex(ISM_wgwords_all, 2, 100)"
   ]
  },
  {
   "cell_type": "code",
   "execution_count": 2,
   "id": "449ed31d-cddb-4405-8874-6fe879a3b836",
   "metadata": {},
   "outputs": [],
   "source": [
    "#with open('ISM_wgwords_uniques', 'wb') as f:\n",
    "#    pickle.dump(ISM_wgwords_uniques, f, protocol=pickle.HIGHEST_PROTOCOL)\n",
    "with open('ISM_wgwords_uniques', 'rb') as f:\n",
    "    ISM_wgwords_uniques = pickle.load(f)"
   ]
  },
  {
   "cell_type": "code",
   "execution_count": 11,
   "id": "4abb083c-50d9-4ffe-80cb-704aa0491375",
   "metadata": {},
   "outputs": [
    {
     "data": {
      "text/plain": [
       "9776"
      ]
     },
     "execution_count": 11,
     "metadata": {},
     "output_type": "execute_result"
    }
   ],
   "source": [
    "len(ISM_wgwords_uniques['WORDS'].unique())"
   ]
  },
  {
   "cell_type": "markdown",
   "id": "7468a4ab-0428-44d7-9c98-101e03d948d5",
   "metadata": {
    "jp-MarkdownHeadingCollapsed": true,
    "tags": []
   },
   "source": [
    "## Transform SourceData into Numerics Structure Source Data"
   ]
  },
  {
   "cell_type": "code",
   "execution_count": 13,
   "id": "166b013a-e05d-413d-baaf-21d625ab8bc5",
   "metadata": {},
   "outputs": [],
   "source": [
    "## Create Dataframe structrue with all the groups columns names\n",
    "TrainingData = trainingstructuredata(ISM_wgwords_uniques)"
   ]
  },
  {
   "cell_type": "code",
   "execution_count": 14,
   "id": "9c9d5eba-d605-4bf9-bf9e-ee875d070432",
   "metadata": {},
   "outputs": [
    {
     "name": "stdout",
     "output_type": "stream",
     "text": [
      "2022-04-02 16:41:43.065455\n",
      "1\n",
      "2022-04-02 16:41:43.291978\n",
      "2\n",
      "2022-04-02 16:41:43.630655\n",
      "4\n",
      "2022-04-02 16:41:44.356460\n",
      "8\n",
      "2022-04-02 16:41:45.837942\n",
      "16\n",
      "2022-04-02 16:41:48.627519\n",
      "32\n",
      "2022-04-02 16:41:54.356564\n",
      "64\n",
      "2022-04-02 16:42:05.449500\n",
      "128\n",
      "2022-04-02 16:42:28.111618\n",
      "256\n",
      "2022-04-02 16:43:15.822044\n",
      "512\n",
      "2022-04-02 16:44:48.949474\n",
      "1024\n",
      "2022-04-02 16:47:52.979967\n",
      "2048\n",
      "2022-04-02 16:54:19.056867\n",
      "4096\n",
      "Finished:  2022-04-02 16:57:05.460817  Errors: 774845\n"
     ]
    }
   ],
   "source": [
    "## Create Training data Set\n",
    "## Could be several process to reduce performance issues and finally consolidate on ISM_wgwords_all\n",
    "square_values = True\n",
    "ISM_Training_1 = training_dataset(ISM_test_set1, TrainingData, ISM_wgwords_uniques, square_values)"
   ]
  },
  {
   "cell_type": "code",
   "execution_count": 15,
   "id": "e7ad5d9c-db92-4bd9-a535-494659f91e5b",
   "metadata": {},
   "outputs": [
    {
     "name": "stdout",
     "output_type": "stream",
     "text": [
      "2022-04-02 16:57:30.747320\n",
      "1\n",
      "2022-04-02 16:57:30.947365\n",
      "2\n",
      "2022-04-02 16:57:31.354037\n",
      "4\n",
      "2022-04-02 16:57:32.057120\n",
      "8\n",
      "2022-04-02 16:57:33.474236\n",
      "16\n",
      "2022-04-02 16:57:36.311113\n",
      "32\n",
      "2022-04-02 16:57:42.064360\n",
      "64\n",
      "2022-04-02 16:57:53.675692\n",
      "128\n",
      "2022-04-02 16:58:19.145479\n",
      "256\n",
      "2022-04-02 16:59:06.568532\n",
      "512\n",
      "2022-04-02 17:00:40.640131\n",
      "1024\n",
      "2022-04-02 17:03:45.378789\n",
      "2048\n",
      "2022-04-02 17:10:02.049818\n",
      "4096\n",
      "Finished:  2022-04-02 17:12:53.880343  Errors: 774845\n"
     ]
    }
   ],
   "source": [
    "time.sleep(15)\n",
    "ISM_Training_2 = training_dataset(ISM_test_set2, TrainingData, ISM_wgwords_uniques, square_values)"
   ]
  },
  {
   "cell_type": "code",
   "execution_count": 16,
   "id": "577f9938-692e-4164-b925-438b298c9058",
   "metadata": {},
   "outputs": [
    {
     "name": "stdout",
     "output_type": "stream",
     "text": [
      "2022-04-02 17:13:19.172780\n",
      "1\n",
      "2022-04-02 17:13:19.398348\n",
      "2\n",
      "2022-04-02 17:13:19.762094\n",
      "4\n",
      "2022-04-02 17:13:20.472147\n",
      "8\n",
      "2022-04-02 17:13:21.907016\n",
      "16\n",
      "2022-04-02 17:13:24.705610\n",
      "32\n",
      "2022-04-02 17:13:30.268602\n",
      "64\n",
      "2022-04-02 17:13:41.448891\n",
      "128\n",
      "2022-04-02 17:14:05.050437\n",
      "256\n",
      "2022-04-02 17:14:51.324474\n",
      "512\n",
      "2022-04-02 17:16:24.024808\n",
      "1024\n",
      "2022-04-02 17:19:28.809790\n",
      "2048\n",
      "Finished:  2022-04-02 17:25:34.881662  Errors: 625115\n"
     ]
    }
   ],
   "source": [
    "time.sleep(15)\n",
    "ISM_Training_3 = training_dataset(ISM_test_set3, TrainingData, ISM_wgwords_uniques, square_values)"
   ]
  },
  {
   "cell_type": "code",
   "execution_count": 19,
   "id": "e3ab67fd-2e7b-4279-b6cc-08bedf3a6147",
   "metadata": {},
   "outputs": [],
   "source": [
    "ISM_Training_load = ISM_Training_1.append(ISM_Training_2)\n",
    "ISM_Training_load = ISM_Training_load.append(ISM_Training_3)\n",
    "\n",
    "## In Case of Multiple Data Sets, append all on ISM_Training_load\n",
    "#ISM_Training_load = ISM_Training_1.append(ISM_Training_2)\n",
    "#ISM_Training_load = ISM_Training_load.append(ISM_Training_3)"
   ]
  },
  {
   "cell_type": "code",
   "execution_count": 55,
   "id": "702a01c0-292d-498d-90ca-5543f18dc46f",
   "metadata": {},
   "outputs": [
    {
     "data": {
      "text/html": [
       "<div>\n",
       "<style scoped>\n",
       "    .dataframe tbody tr th:only-of-type {\n",
       "        vertical-align: middle;\n",
       "    }\n",
       "\n",
       "    .dataframe tbody tr th {\n",
       "        vertical-align: top;\n",
       "    }\n",
       "\n",
       "    .dataframe thead th {\n",
       "        text-align: right;\n",
       "    }\n",
       "</style>\n",
       "<table border=\"1\" class=\"dataframe\">\n",
       "  <thead>\n",
       "    <tr style=\"text-align: right;\">\n",
       "      <th></th>\n",
       "      <th>C-CEX-MX-EA-BASIS-PR-CX-L3</th>\n",
       "      <th>I-CEX-LATAM-AFST-CO-PR-MNT-L3</th>\n",
       "      <th>I-CEX-MX-BO-JDE-GSC-L1</th>\n",
       "      <th>I-CEX-NOAM-IT-GSC-L1</th>\n",
       "      <th>I-CEX-MY-SERVICEDESK-L1</th>\n",
       "      <th>C-CEX-GLOBAL-IT-AZU-CLD-MGM</th>\n",
       "      <th>I-CEX-EMEAA-BO-CS-APP-L3</th>\n",
       "      <th>I-CEX-EMEAA-BOCOM-SEC-L1</th>\n",
       "      <th>I-CEX-US-SERVICEDESK-L1</th>\n",
       "      <th>I-CEX-MX-OP-GINCO-GSC-L1</th>\n",
       "      <th>...</th>\n",
       "      <th>I-CEX-IN-IT-OAM-DTC-L2</th>\n",
       "      <th>C-CEX-AE-BO-GL-SEC-L2</th>\n",
       "      <th>I-CEX-MX-IT-SEC-CAB</th>\n",
       "      <th>I-CEX-MX-IT-SCCM-APP-L2</th>\n",
       "      <th>I-CEX-MX-CONTACTCENTER-GV-L2</th>\n",
       "      <th>I-CEX-MX-CONTACTCENTER-GV-L1</th>\n",
       "      <th>I-CEX-IN-IT-BURA-DTC-L2</th>\n",
       "      <th>COUNTRY</th>\n",
       "      <th>OWNERGROUP</th>\n",
       "      <th>TICKETID</th>\n",
       "    </tr>\n",
       "  </thead>\n",
       "  <tbody>\n",
       "    <tr>\n",
       "      <th>2806</th>\n",
       "      <td>9</td>\n",
       "      <td>121</td>\n",
       "      <td>225</td>\n",
       "      <td>225</td>\n",
       "      <td>36</td>\n",
       "      <td>121</td>\n",
       "      <td>16</td>\n",
       "      <td>81</td>\n",
       "      <td>121</td>\n",
       "      <td>81</td>\n",
       "      <td>...</td>\n",
       "      <td>9</td>\n",
       "      <td>0</td>\n",
       "      <td>0</td>\n",
       "      <td>1</td>\n",
       "      <td>0</td>\n",
       "      <td>0</td>\n",
       "      <td>0</td>\n",
       "      <td>Mexico</td>\n",
       "      <td>I-CEX-MXBOSAP-SEC-APP-L3</td>\n",
       "      <td>SR2665575</td>\n",
       "    </tr>\n",
       "  </tbody>\n",
       "</table>\n",
       "<p>1 rows × 158 columns</p>\n",
       "</div>"
      ],
      "text/plain": [
       "     C-CEX-MX-EA-BASIS-PR-CX-L3 I-CEX-LATAM-AFST-CO-PR-MNT-L3  \\\n",
       "2806                          9                           121   \n",
       "\n",
       "     I-CEX-MX-BO-JDE-GSC-L1 I-CEX-NOAM-IT-GSC-L1 I-CEX-MY-SERVICEDESK-L1  \\\n",
       "2806                    225                  225                      36   \n",
       "\n",
       "     C-CEX-GLOBAL-IT-AZU-CLD-MGM I-CEX-EMEAA-BO-CS-APP-L3  \\\n",
       "2806                         121                       16   \n",
       "\n",
       "     I-CEX-EMEAA-BOCOM-SEC-L1 I-CEX-US-SERVICEDESK-L1  \\\n",
       "2806                       81                     121   \n",
       "\n",
       "     I-CEX-MX-OP-GINCO-GSC-L1  ... I-CEX-IN-IT-OAM-DTC-L2  \\\n",
       "2806                       81  ...                      9   \n",
       "\n",
       "     C-CEX-AE-BO-GL-SEC-L2 I-CEX-MX-IT-SEC-CAB I-CEX-MX-IT-SCCM-APP-L2  \\\n",
       "2806                     0                   0                       1   \n",
       "\n",
       "     I-CEX-MX-CONTACTCENTER-GV-L2 I-CEX-MX-CONTACTCENTER-GV-L1  \\\n",
       "2806                            0                            0   \n",
       "\n",
       "     I-CEX-IN-IT-BURA-DTC-L2 COUNTRY                OWNERGROUP   TICKETID  \n",
       "2806                       0  Mexico  I-CEX-MXBOSAP-SEC-APP-L3  SR2665575  \n",
       "\n",
       "[1 rows x 158 columns]"
      ]
     },
     "execution_count": 55,
     "metadata": {},
     "output_type": "execute_result"
    }
   ],
   "source": [
    "ISM_Training_load[ISM_Training_load['TICKETID']=='SR2665575']"
   ]
  },
  {
   "cell_type": "markdown",
   "id": "327944bd-6e93-4524-a5fa-ce6dedcb460a",
   "metadata": {
    "tags": []
   },
   "source": [
    "## Create Training Data"
   ]
  },
  {
   "cell_type": "code",
   "execution_count": 51,
   "id": "34a5f7a9-44fd-4581-8d36-4de9dbdfd11b",
   "metadata": {},
   "outputs": [],
   "source": [
    "split_test_size = 0.25\n",
    "X_train, X_test, y_train, y_test, group_mapping = Create_training_data(ISM_Training_load, split_test_size)\n",
    "\n",
    "with open('group_mapping', 'wb') as f:\n",
    "    pickle.dump(group_mapping, f, protocol=pickle.HIGHEST_PROTOCOL)"
   ]
  },
  {
   "cell_type": "code",
   "execution_count": 53,
   "id": "bfa138fd-3f66-48c4-9733-34443acc04c7",
   "metadata": {},
   "outputs": [
    {
     "data": {
      "text/html": [
       "<div>\n",
       "<style scoped>\n",
       "    .dataframe tbody tr th:only-of-type {\n",
       "        vertical-align: middle;\n",
       "    }\n",
       "\n",
       "    .dataframe tbody tr th {\n",
       "        vertical-align: top;\n",
       "    }\n",
       "\n",
       "    .dataframe thead th {\n",
       "        text-align: right;\n",
       "    }\n",
       "</style>\n",
       "<table border=\"1\" class=\"dataframe\">\n",
       "  <thead>\n",
       "    <tr style=\"text-align: right;\">\n",
       "      <th></th>\n",
       "      <th>OWNERGROUP</th>\n",
       "      <th>MAP_VALUE</th>\n",
       "    </tr>\n",
       "  </thead>\n",
       "  <tbody>\n",
       "    <tr>\n",
       "      <th>0</th>\n",
       "      <td>C-CEX-MX-EA-BASIS-PR-CX-L3</td>\n",
       "      <td>0</td>\n",
       "    </tr>\n",
       "    <tr>\n",
       "      <th>1</th>\n",
       "      <td>I-CEX-NOAM-IT-GSC-L1</td>\n",
       "      <td>1</td>\n",
       "    </tr>\n",
       "    <tr>\n",
       "      <th>2</th>\n",
       "      <td>I-CEX-MX-OP-GINCO-GSC-L1</td>\n",
       "      <td>2</td>\n",
       "    </tr>\n",
       "    <tr>\n",
       "      <th>3</th>\n",
       "      <td>I-CEX-MX-IT-SER-OS-L2</td>\n",
       "      <td>3</td>\n",
       "    </tr>\n",
       "    <tr>\n",
       "      <th>4</th>\n",
       "      <td>C-CEX-DE-IT-SAP-SEC-L2</td>\n",
       "      <td>4</td>\n",
       "    </tr>\n",
       "    <tr>\n",
       "      <th>...</th>\n",
       "      <td>...</td>\n",
       "      <td>...</td>\n",
       "    </tr>\n",
       "    <tr>\n",
       "      <th>150</th>\n",
       "      <td>I-CEX-IN-IT-MAILCOL-DTC-L2</td>\n",
       "      <td>150</td>\n",
       "    </tr>\n",
       "    <tr>\n",
       "      <th>151</th>\n",
       "      <td>C-CEX-HR-IT-CP-L2</td>\n",
       "      <td>151</td>\n",
       "    </tr>\n",
       "    <tr>\n",
       "      <th>152</th>\n",
       "      <td>I-CEX-GB-IT-FIN-APP-ENT-L2</td>\n",
       "      <td>152</td>\n",
       "    </tr>\n",
       "    <tr>\n",
       "      <th>153</th>\n",
       "      <td>I-CEX-PH-IT-IMAC-L2</td>\n",
       "      <td>153</td>\n",
       "    </tr>\n",
       "    <tr>\n",
       "      <th>154</th>\n",
       "      <td>I-CEX-IN-IT-UNIXL-DTC-L2</td>\n",
       "      <td>154</td>\n",
       "    </tr>\n",
       "  </tbody>\n",
       "</table>\n",
       "<p>155 rows × 2 columns</p>\n",
       "</div>"
      ],
      "text/plain": [
       "                     OWNERGROUP  MAP_VALUE\n",
       "0    C-CEX-MX-EA-BASIS-PR-CX-L3          0\n",
       "1          I-CEX-NOAM-IT-GSC-L1          1\n",
       "2      I-CEX-MX-OP-GINCO-GSC-L1          2\n",
       "3         I-CEX-MX-IT-SER-OS-L2          3\n",
       "4        C-CEX-DE-IT-SAP-SEC-L2          4\n",
       "..                          ...        ...\n",
       "150  I-CEX-IN-IT-MAILCOL-DTC-L2        150\n",
       "151           C-CEX-HR-IT-CP-L2        151\n",
       "152  I-CEX-GB-IT-FIN-APP-ENT-L2        152\n",
       "153         I-CEX-PH-IT-IMAC-L2        153\n",
       "154    I-CEX-IN-IT-UNIXL-DTC-L2        154\n",
       "\n",
       "[155 rows x 2 columns]"
      ]
     },
     "execution_count": 53,
     "metadata": {},
     "output_type": "execute_result"
    }
   ],
   "source": [
    "group_mapping"
   ]
  },
  {
   "cell_type": "markdown",
   "id": "623b5915-6253-4596-a047-3377534609e1",
   "metadata": {
    "tags": []
   },
   "source": [
    "## Create Models"
   ]
  },
  {
   "cell_type": "code",
   "execution_count": 43,
   "id": "bb038423-4f7d-42ac-b2f3-432ac09322b0",
   "metadata": {},
   "outputs": [
    {
     "name": "stderr",
     "output_type": "stream",
     "text": [
      "C:\\Users\\mamoralessr\\Anaconda3\\lib\\site-packages\\sklearn\\metrics\\_classification.py:1327: UndefinedMetricWarning: Precision is ill-defined and being set to 0.0 in labels with no predicted samples. Use `zero_division` parameter to control this behavior.\n",
      "  _warn_prf(average, modifier, msg_start, len(result))\n",
      "C:\\Users\\mamoralessr\\Anaconda3\\lib\\site-packages\\sklearn\\metrics\\_classification.py:1327: UndefinedMetricWarning: Recall is ill-defined and being set to 0.0 in labels with no true samples. Use `zero_division` parameter to control this behavior.\n",
      "  _warn_prf(average, modifier, msg_start, len(result))\n"
     ]
    },
    {
     "data": {
      "text/plain": [
       "(0.0068415051311288486, 0.006442796805568306, 0.005942491478126676)"
      ]
     },
     "execution_count": 43,
     "metadata": {},
     "output_type": "execute_result"
    }
   ],
   "source": [
    "\n",
    "## Dummy Model & Test\n",
    "dummy_model = DummyClassifier(strategy='uniform').fit(X_train, y_train)\n",
    "y_predicted = dummy_model.predict(X_test)\n",
    "accuracy_score(y_test, y_predicted), precision_score(y_test, y_predicted, average='macro'), recall_score(y_test, y_predicted, average='macro')"
   ]
  },
  {
   "cell_type": "code",
   "execution_count": null,
   "id": "fa100962-493e-4848-a562-90ced1097ea4",
   "metadata": {},
   "outputs": [],
   "source": []
  },
  {
   "cell_type": "code",
   "execution_count": 20,
   "id": "c7b0b581-cf62-4b2f-94b2-2756fc2a29c3",
   "metadata": {},
   "outputs": [
    {
     "name": "stderr",
     "output_type": "stream",
     "text": [
      "C:\\Users\\mamoralessr\\Anaconda3\\lib\\site-packages\\sklearn\\model_selection\\_split.py:676: UserWarning: The least populated class in y has only 1 members, which is less than n_splits=5.\n",
      "  warnings.warn(\n",
      "C:\\Users\\mamoralessr\\AppData\\Roaming\\Python\\Python39\\site-packages\\xgboost\\sklearn.py:1224: UserWarning: The use of label encoder in XGBClassifier is deprecated and will be removed in a future release. To remove this warning, do the following: 1) Pass option use_label_encoder=False when constructing XGBClassifier object; and 2) Encode your labels (y) as integers starting with 0, i.e. 0, 1, 2, ..., [num_class - 1].\n",
      "  warnings.warn(label_encoder_deprecation_msg, UserWarning)\n",
      "C:\\Users\\mamoralessr\\Anaconda3\\lib\\site-packages\\sklearn\\preprocessing\\_label.py:98: DataConversionWarning: A column-vector y was passed when a 1d array was expected. Please change the shape of y to (n_samples, ), for example using ravel().\n",
      "  y = column_or_1d(y, warn=True)\n",
      "C:\\Users\\mamoralessr\\Anaconda3\\lib\\site-packages\\sklearn\\preprocessing\\_label.py:133: DataConversionWarning: A column-vector y was passed when a 1d array was expected. Please change the shape of y to (n_samples, ), for example using ravel().\n",
      "  y = column_or_1d(y, warn=True)\n"
     ]
    },
    {
     "name": "stdout",
     "output_type": "stream",
     "text": [
      "[09:12:32] WARNING: C:/Users/Administrator/workspace/xgboost-win64_release_1.5.1/src/learner.cc:1115: Starting in XGBoost 1.3.0, the default evaluation metric used with the objective 'multi:softprob' was changed from 'merror' to 'mlogloss'. Explicitly set eval_metric if you'd like to restore the old behavior.\n"
     ]
    },
    {
     "data": {
      "text/plain": [
       "(0.8108510638297872, {'max_depth': 5, 'n_estimators': 80})"
      ]
     },
     "execution_count": 20,
     "metadata": {},
     "output_type": "execute_result"
    }
   ],
   "source": [
    "predictmodel =  xgb.XGBClassifier()\n",
    "gs = GridSearchCV(predictmodel, {'n_estimators':range (80, 90, 10), 'max_depth':range (5, 10, 5)}, cv=5, n_jobs=-1, verbose=0, scoring = 'accuracy')\n",
    "gs.fit(X_train, y_train)\n",
    "gs.best_score_ , gs.best_params_"
   ]
  },
  {
   "cell_type": "code",
   "execution_count": 44,
   "id": "206815f1-b5fd-4089-8a57-cb629e80fdbc",
   "metadata": {},
   "outputs": [
    {
     "name": "stderr",
     "output_type": "stream",
     "text": [
      "C:\\Users\\mamoralessr\\AppData\\Roaming\\Python\\Python39\\site-packages\\xgboost\\core.py:499: FutureWarning: Pass `objective` as keyword args.  Passing these as positional arguments will be considered as error in future releases.\n",
      "  warnings.warn(\n",
      "C:\\Users\\mamoralessr\\AppData\\Roaming\\Python\\Python39\\site-packages\\xgboost\\sklearn.py:1224: UserWarning: The use of label encoder in XGBClassifier is deprecated and will be removed in a future release. To remove this warning, do the following: 1) Pass option use_label_encoder=False when constructing XGBClassifier object; and 2) Encode your labels (y) as integers starting with 0, i.e. 0, 1, 2, ..., [num_class - 1].\n",
      "  warnings.warn(label_encoder_deprecation_msg, UserWarning)\n",
      "C:\\Users\\mamoralessr\\Anaconda3\\lib\\site-packages\\sklearn\\preprocessing\\_label.py:98: DataConversionWarning: A column-vector y was passed when a 1d array was expected. Please change the shape of y to (n_samples, ), for example using ravel().\n",
      "  y = column_or_1d(y, warn=True)\n",
      "C:\\Users\\mamoralessr\\Anaconda3\\lib\\site-packages\\sklearn\\preprocessing\\_label.py:133: DataConversionWarning: A column-vector y was passed when a 1d array was expected. Please change the shape of y to (n_samples, ), for example using ravel().\n",
      "  y = column_or_1d(y, warn=True)\n"
     ]
    },
    {
     "name": "stdout",
     "output_type": "stream",
     "text": [
      "[23:37:16] WARNING: C:/Users/Administrator/workspace/xgboost-win64_release_1.5.1/src/learner.cc:1115: Starting in XGBoost 1.3.0, the default evaluation metric used with the objective 'multi:softprob' was changed from 'merror' to 'mlogloss'. Explicitly set eval_metric if you'd like to restore the old behavior.\n"
     ]
    },
    {
     "name": "stderr",
     "output_type": "stream",
     "text": [
      "C:\\Users\\mamoralessr\\Anaconda3\\lib\\site-packages\\sklearn\\metrics\\_classification.py:1327: UndefinedMetricWarning: Precision is ill-defined and being set to 0.0 in labels with no predicted samples. Use `zero_division` parameter to control this behavior.\n",
      "  _warn_prf(average, modifier, msg_start, len(result))\n",
      "C:\\Users\\mamoralessr\\Anaconda3\\lib\\site-packages\\sklearn\\metrics\\_classification.py:1327: UndefinedMetricWarning: Recall is ill-defined and being set to 0.0 in labels with no true samples. Use `zero_division` parameter to control this behavior.\n",
      "  _warn_prf(average, modifier, msg_start, len(result))\n"
     ]
    },
    {
     "data": {
      "text/plain": [
       "(0.8332383124287344, 0.594639819139813, 0.5188617549890285)"
      ]
     },
     "execution_count": 44,
     "metadata": {},
     "output_type": "execute_result"
    }
   ],
   "source": [
    "##Result from GridSearch\n",
    "## (0.7608003108003107, {'max_depth': 10, 'n_estimators': 86}) - Small number of records\n",
    "## (0.7594017094017094, {'max_depth': 10, 'n_estimators': 90}) - Small number of records\n",
    "## (0.8108510638297872, {'max_depth': 5, 'n_estimators': 80}) - Oct-Nov 14k records\n",
    "\n",
    "#XGBClass_model = xgb.XGBClassifier(**gs.best_params_)\n",
    "XGBClass_model = xgb.XGBClassifier({'max_depth': 5, 'n_estimators': 80})\n",
    "XGBClass_model.fit(X_train,y_train)\n",
    "y_predicted = XGBClass_model.predict(X_test)\n",
    "accuracy_score(y_test, y_predicted), precision_score(y_test, y_predicted, average='macro'), recall_score(y_test, y_predicted, average='macro')\n",
    "\n",
    "## Results from Training\n",
    "## (0.8205571150939321, 0.6281368465483518, 0.5583273192811594) {'max_depth': 5, 'n_estimators': 80}) - Oct-Nov 14k records"
   ]
  },
  {
   "cell_type": "code",
   "execution_count": 45,
   "id": "e71d8775-63a1-47d5-b1ad-80b894d77dc2",
   "metadata": {},
   "outputs": [
    {
     "data": {
      "text/html": [
       "<div>\n",
       "<style scoped>\n",
       "    .dataframe tbody tr th:only-of-type {\n",
       "        vertical-align: middle;\n",
       "    }\n",
       "\n",
       "    .dataframe tbody tr th {\n",
       "        vertical-align: top;\n",
       "    }\n",
       "\n",
       "    .dataframe thead th {\n",
       "        text-align: right;\n",
       "    }\n",
       "</style>\n",
       "<table border=\"1\" class=\"dataframe\">\n",
       "  <thead>\n",
       "    <tr style=\"text-align: right;\">\n",
       "      <th></th>\n",
       "      <th>PREDICT</th>\n",
       "      <th>REAL</th>\n",
       "    </tr>\n",
       "    <tr>\n",
       "      <th>TICKETID</th>\n",
       "      <th></th>\n",
       "      <th></th>\n",
       "    </tr>\n",
       "  </thead>\n",
       "  <tbody>\n",
       "    <tr>\n",
       "      <th>SR2665575</th>\n",
       "      <td>I-CEX-MXBOSAP-SEC-APP-L3</td>\n",
       "      <td>I-CEX-MXBOSAP-SEC-APP-L3</td>\n",
       "    </tr>\n",
       "    <tr>\n",
       "      <th>SR2639635</th>\n",
       "      <td>I-CEX-NOAM-IT-GSC-L1</td>\n",
       "      <td>I-CEX-NOAM-IT-GSC-L1</td>\n",
       "    </tr>\n",
       "    <tr>\n",
       "      <th>SR2654912</th>\n",
       "      <td>I-CEX-MX-PSD-LE-PA-L3</td>\n",
       "      <td>I-CEX-MX-PSD-LE-PA-L3</td>\n",
       "    </tr>\n",
       "  </tbody>\n",
       "</table>\n",
       "</div>"
      ],
      "text/plain": [
       "                            PREDICT                      REAL\n",
       "TICKETID                                                     \n",
       "SR2665575  I-CEX-MXBOSAP-SEC-APP-L3  I-CEX-MXBOSAP-SEC-APP-L3\n",
       "SR2639635      I-CEX-NOAM-IT-GSC-L1      I-CEX-NOAM-IT-GSC-L1\n",
       "SR2654912     I-CEX-MX-PSD-LE-PA-L3     I-CEX-MX-PSD-LE-PA-L3"
      ]
     },
     "execution_count": 45,
     "metadata": {},
     "output_type": "execute_result"
    }
   ],
   "source": [
    "## Revisar Resultados\n",
    "\n",
    "validation_data = X_test \n",
    "groups_dic = {group_mapping.loc[idx, 'MAP_VALUE']: group_mapping.loc[idx, 'OWNERGROUP'] for idx in range(group_mapping.shape[0])}\n",
    "validation_data['PREDICT'] = y_predicted\n",
    "validation_data['REAL'] = y_test\n",
    "validation_data['PREDICT'] = validation_data['PREDICT'].map(groups_dic)\n",
    "validation_data['REAL'] = validation_data['REAL'].map(groups_dic)\n",
    "validation_data[['PREDICT','REAL']].head(3)\n"
   ]
  },
  {
   "cell_type": "code",
   "execution_count": 47,
   "id": "8962680f-6559-4283-9adc-285aacb734c6",
   "metadata": {},
   "outputs": [],
   "source": [
    "validation_data.to_excel(f\"./Data/validation_data.xlsx\")"
   ]
  },
  {
   "cell_type": "code",
   "execution_count": 52,
   "id": "69a81148-558f-4468-b1e6-e5d91cbf610a",
   "metadata": {},
   "outputs": [],
   "source": [
    "with open('XGBClass_model', 'wb') as f:\n",
    "    pickle.dump(XGBClass_model, f, protocol=pickle.HIGHEST_PROTOCOL)"
   ]
  },
  {
   "cell_type": "code",
   "execution_count": 23,
   "id": "798534fe-3589-4d94-a989-84dee8dcdc13",
   "metadata": {},
   "outputs": [
    {
     "name": "stdout",
     "output_type": "stream",
     "text": [
      "Fitting 5 folds for each of 240 candidates, totalling 1200 fits\n"
     ]
    },
    {
     "name": "stderr",
     "output_type": "stream",
     "text": [
      "C:\\Users\\mamoralessr\\Anaconda3\\lib\\site-packages\\sklearn\\model_selection\\_split.py:676: UserWarning: The least populated class in y has only 1 members, which is less than n_splits=5.\n",
      "  warnings.warn(\n",
      "C:\\Users\\mamoralessr\\Anaconda3\\lib\\site-packages\\sklearn\\model_selection\\_search.py:910: DataConversionWarning: A column-vector y was passed when a 1d array was expected. Please change the shape of y to (n_samples,), for example using ravel().\n",
      "  self.best_estimator_.fit(X, y, **fit_params)\n"
     ]
    },
    {
     "data": {
      "text/plain": [
       "(0.7448936170212767,\n",
       " {'criterion': 'gini',\n",
       "  'max_depth': None,\n",
       "  'max_features': 'sqrt',\n",
       "  'n_estimators': 150})"
      ]
     },
     "execution_count": 23,
     "metadata": {},
     "output_type": "execute_result"
    }
   ],
   "source": [
    "\n",
    "parameters = {'n_estimators': range(100, 200, 25),\n",
    "              'criterion': ['gini', 'entropy'],\n",
    "              'max_depth': list(range(1, 10))+[None],\n",
    "              \n",
    "              'max_features': ['auto', 'sqrt', 'log2']\n",
    "             }\n",
    "model = RandomForestClassifier()\n",
    "gs = GridSearchCV(model, parameters, cv=5, n_jobs=-1, verbose=1)\n",
    "gs.fit(X_train, y_train)\n",
    "gs.best_score_, gs.best_params_"
   ]
  },
  {
   "cell_type": "code",
   "execution_count": 24,
   "id": "f5004147-8122-496f-baf2-a70764bf9356",
   "metadata": {},
   "outputs": [
    {
     "name": "stderr",
     "output_type": "stream",
     "text": [
      "C:\\Users\\MAMORA~1\\AppData\\Local\\Temp/ipykernel_21188/2653838526.py:2: DataConversionWarning: A column-vector y was passed when a 1d array was expected. Please change the shape of y to (n_samples,), for example using ravel().\n",
      "  Forestmodel.fit(X_train, y_train)\n",
      "C:\\Users\\mamoralessr\\Anaconda3\\lib\\site-packages\\sklearn\\metrics\\_classification.py:1327: UndefinedMetricWarning: Precision is ill-defined and being set to 0.0 in labels with no predicted samples. Use `zero_division` parameter to control this behavior.\n",
      "  _warn_prf(average, modifier, msg_start, len(result))\n",
      "C:\\Users\\mamoralessr\\Anaconda3\\lib\\site-packages\\sklearn\\metrics\\_classification.py:1327: UndefinedMetricWarning: Recall is ill-defined and being set to 0.0 in labels with no true samples. Use `zero_division` parameter to control this behavior.\n",
      "  _warn_prf(average, modifier, msg_start, len(result))\n"
     ]
    },
    {
     "data": {
      "text/plain": [
       "(0.7596631397106457, 0.508493199793195, 0.3771914430963358)"
      ]
     },
     "execution_count": 24,
     "metadata": {},
     "output_type": "execute_result"
    }
   ],
   "source": [
    "## Result from GridSearch\n",
    "## (0.7448936170212767,  {'criterion': 'gini', 'max_depth': None, 'max_features': 'sqrt', 'n_estimators': 150})\n",
    "\n",
    "Forestmodel = RandomForestClassifier(**gs.best_params_)\n",
    "Forestmodel.fit(X_train, y_train)\n",
    "y_predicted = Forestmodel.predict(X_test)\n",
    "accuracy_score(y_test, y_predicted), precision_score(y_test, y_predicted, average='macro'), recall_score(y_test, y_predicted, average='macro')\n",
    "\n",
    "## Result from Training\n",
    "## (0.7596631397106457, 0.508493199793195, 0.3771914430963358) {'criterion': 'gini', 'max_depth': None, 'max_features': 'sqrt','n_estimators': 150})"
   ]
  },
  {
   "cell_type": "code",
   "execution_count": 25,
   "id": "31d3ac8b-4d59-4c33-9730-db1ed00edef1",
   "metadata": {},
   "outputs": [],
   "source": [
    "with open('Forestmodel', 'wb') as f:\n",
    "    pickle.dump(Forestmodel, f, protocol=pickle.HIGHEST_PROTOCOL)"
   ]
  },
  {
   "cell_type": "markdown",
   "id": "ad0e2c33-06d0-4991-ba42-c290c563b748",
   "metadata": {
    "tags": []
   },
   "source": []
  },
  {
   "cell_type": "code",
   "execution_count": 8,
   "id": "fe600116-a2eb-48a8-a5d2-a4462ade406b",
   "metadata": {},
   "outputs": [],
   "source": []
  },
  {
   "cell_type": "code",
   "execution_count": 12,
   "id": "51f2adf3-82ee-4306-ada2-5ad164b91524",
   "metadata": {},
   "outputs": [],
   "source": []
  },
  {
   "cell_type": "code",
   "execution_count": null,
   "id": "7fc95c9b-a657-4def-9cfd-6dfcc631f71f",
   "metadata": {},
   "outputs": [],
   "source": []
  },
  {
   "cell_type": "code",
   "execution_count": 32,
   "id": "eedcb2c7-12f5-4630-8805-72bfd77aeab9",
   "metadata": {},
   "outputs": [],
   "source": []
  },
  {
   "cell_type": "code",
   "execution_count": null,
   "id": "d93f1a04-83fe-467b-880e-7ab9ca42d977",
   "metadata": {},
   "outputs": [],
   "source": []
  },
  {
   "cell_type": "code",
   "execution_count": null,
   "id": "68abecfb-c6b2-4e9b-85d4-17bd7c35bae6",
   "metadata": {},
   "outputs": [],
   "source": []
  },
  {
   "cell_type": "code",
   "execution_count": null,
   "id": "e9c4451a-cabc-4796-811d-781d0e7e94c7",
   "metadata": {},
   "outputs": [],
   "source": []
  },
  {
   "cell_type": "code",
   "execution_count": null,
   "id": "6d85a273-3203-4ffb-ac6f-fa13a141aada",
   "metadata": {},
   "outputs": [],
   "source": []
  },
  {
   "cell_type": "code",
   "execution_count": null,
   "id": "681a4fbb-2153-4184-893a-6666e716ac99",
   "metadata": {},
   "outputs": [],
   "source": []
  },
  {
   "cell_type": "code",
   "execution_count": null,
   "id": "a711f1bd-c5cb-4aae-8d67-09df8df3cd44",
   "metadata": {},
   "outputs": [],
   "source": []
  },
  {
   "cell_type": "code",
   "execution_count": null,
   "id": "ea63f959-8622-4767-b56b-1e38c7b83469",
   "metadata": {},
   "outputs": [],
   "source": []
  },
  {
   "cell_type": "code",
   "execution_count": null,
   "id": "68ebd15c-0f0e-41b4-97e3-82583456a4f9",
   "metadata": {},
   "outputs": [],
   "source": []
  }
 ],
 "metadata": {
  "kernelspec": {
   "display_name": "Python 3 (ipykernel)",
   "language": "python",
   "name": "python3"
  },
  "language_info": {
   "codemirror_mode": {
    "name": "ipython",
    "version": 3
   },
   "file_extension": ".py",
   "mimetype": "text/x-python",
   "name": "python",
   "nbconvert_exporter": "python",
   "pygments_lexer": "ipython3",
   "version": "3.9.7"
  }
 },
 "nbformat": 4,
 "nbformat_minor": 5
}
