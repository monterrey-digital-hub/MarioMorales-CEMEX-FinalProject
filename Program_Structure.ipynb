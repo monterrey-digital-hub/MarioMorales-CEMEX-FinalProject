{
 "cells": [
  {
   "cell_type": "markdown",
   "id": "4f217a59-f168-4da1-8707-057216c4ab89",
   "metadata": {},
   "source": [
    "## Load libraries"
   ]
  },
  {
   "cell_type": "code",
   "execution_count": 2,
   "id": "7aaa18b6-dcd3-4250-9b5c-bc6e16835af3",
   "metadata": {},
   "outputs": [],
   "source": [
    "import pandas as pd\n",
    "import numpy as np\n",
    "import time\n",
    "import pickle\n",
    "from functions import training_dataset, PrepareWordLists, selectdata, readdata, cleandatastructure, buildwordsindex, trainingstructuredata, getlistofwords, Create_training_data,predictstructuredata,predict_dataset,Create_Predict_data,Predictive_Model,Build_PredictData \n",
    "from names_dataset import NameDataset\n",
    "\n",
    "from sklearn.dummy import DummyClassifier\n",
    "from sklearn.metrics import (r2_score, mean_squared_error, accuracy_score, precision_score, recall_score,\n",
    "                             f1_score, roc_auc_score, roc_curve, precision_recall_curve, make_scorer,\n",
    "                             confusion_matrix, multilabel_confusion_matrix, ConfusionMatrixDisplay)\n",
    "from sklearn.ensemble import RandomForestClassifier, RandomForestRegressor\n",
    "import xgboost as xgb\n",
    "from sklearn.model_selection import train_test_split, KFold, GridSearchCV, cross_val_score"
   ]
  },
  {
   "cell_type": "code",
   "execution_count": 3,
   "id": "ea619cfa-87dd-47ed-af90-2286c04d0a7a",
   "metadata": {},
   "outputs": [],
   "source": [
    "## Load Objects\n",
    "with open('ISM_wgwords_uniques', 'rb') as f:\n",
    "    ISM_wgwords_uniques = pickle.load(f)\n",
    "with open('group_mapping', 'rb') as f:\n",
    "    group_mapping = pickle.load(f)\n",
    "with open('XGBClass_model', 'rb') as f:\n",
    "    predict_model = pickle.load(f)\n",
    "with open('namedataset', 'rb') as f:\n",
    "    nd = pickle.load(f)\n",
    "#with open('BPD', 'rb') as f:\n",
    "#    BPD = pickle.load(f)\n",
    "\n",
    "BPD = Build_PredictData()\n",
    "BPD.fit(ISM_wgwords_uniques, group_mapping, nd)"
   ]
  },
  {
   "cell_type": "code",
   "execution_count": 12,
   "id": "26e40181-aa86-48af-85de-00cc53bd701c",
   "metadata": {},
   "outputs": [],
   "source": [
    "## input\n",
    "input_ticketid = 'SR12345'\n",
    "input_country = 'Mexico'\n",
    "#input_fulldesc = 'Ncred no se registran en cuentas por pagarSe revisaron la ncred y no hay Idocs, de favor revisar si el escenario aplica para el circulo operativo          Buen día GSC, \\nSu apoyo por favor en validar cual podría ser el error o si hace falta algo adicional en el proceso de las siguientes facturas, ya que no se registran en cuentas por pagar.\\n\\nConsultando cada Nota si se encuentran con solicitante 7277.\\n\\n[cid:image008.png@01D7CCEA.88FDD8B0]\\n\\nAnexo listado de Notas de crédito:\\n\\nNcred IVA 16%\\n202985294\\n202985295\\n202985297\\n202985298\\n202985299\\n202985300\\n202985301\\n202985302\\n202985303\\n202985304\\n202985305\\n202985456\\n202985457\\n202985458\\n202985459\\n202901.png@01D7CCE8.CF855620]\\nMaría del C85460\\n\\nGracias por su apoyo con el seguimiento.\\n\\nSaludos!\\n\\n[cid:image001.png@01D7CCE8.CF855620]\\nMaría del Carmen Osorio Hernández\\nBUSINESS SERVICE ORGANIZATION MEXICO\\n\\n\\n\\nFrom: Maria Del Carmen Osorio Hernandez\\nSent: Friday, October 29, 2021 5:31 PM\\nTo: Nayeli Tovar Zarate <nayeli.tovar@neoris.com>\\nCc: Javier Alejandro Cantu Briviezca <javieralejandro.cantub@cemex.com>; Maria Isabel Martinez Garza <mariaisabel.martinez@cemex.com>; Martha Laura Saenz Campos <marthalaura.saenzc@cemex.com>\\nSubject: RE: Documentos con IVA 8% en pasivo\\n\\nHola Naye, buenas tardes,\\n\\nPodrias por favor apoyarnos en consultar si hay algún error en las Notas que compartimos?, ya que no se registran en CXP y consultando cada Nota si se encuentran con solicitante 7277.\\n\\n[cid:image008.png@01D7CCEA.88FDD8B0]\\n\\nGracias de antemano por tu amable apoyo!\\n\\nSaludos!\\n\\n[cid:image0armen Osorio Hernández\\nBUSINESS SERVICE ORGANIZATION MEXICO\\n\\n\\n\\nFrom: Martha Laura Saenz Campos <marthalaura.saenzc@cemex.com< mailto:marthalaura.saenzc@cemex.com >>\\nSent: Friday, October 29, 2021 5:08 PM\\nTo: Maria Del Carmen Osorio Hernandez <MariaDelCarmen.OsorioHernandez@cemex.com< mailto:MariaDelCarmen.OsorioHernandez@cemex.com >>; Maria Isabel Martinez Garza <mariaisabel.martinez@cemex.com< mailto:mariaisabel.martinez@cemex.com >>\\nCc: Javier Alejandro Cantu Briviezca <javieralejandro.cantub@cemex.com< mailto:javieralejandro.cantub@cemex.com >>; Nayeli Tovar Zarate <nayeli.tovar@neoris.com< mailto:nayeli.tovar@neoris.com >>\\nSubject: RE: Documentos con IVA 8% en pasivo\\n\\nHola Carmen,\\nSiguen sin aparecer del lado de CXP.\\nSaludos,\\nMS\\n\\nFrom: Maria Del Carmen Osorio Hernandez <MariaDelCarmen.OsorioHernandez@cemex.com< mailto:MariaDelCarmen.OsorioHernandez@cemex.com >>\\nSent: Friday, October 29, 2021 4:01 PM\\nTo: Maria Isabel Martinez Garza <mariaisabel.martinez@cemex.com< mailto:mariaisabel.martinez@cemex.com >>; Martha Laura Saenz Campos <marthalaura.saenzc@cemex.com< mailto:marthalaura.saenzc@cemex.com >>\\nCc: Javier Alejandro Cantu Briviezca <javieralejandro.cantub@cemex.com< mailto:javieralejandro.cantub@cemex.com >>; Nayeli Tovar Zarate <nayeli.tovar@neoris.com< mailto:nayeli.tovar@neoris.com >>\\nSubject: RE: Documentos con IVA 8% en pasivo\\n\\nHola Marisa/ Martha, buenas tardes,\\n\\nLes comparto las Notas de crédito con IVA 16% pendientes que no se habían podido generar, se realizaron en soc 7277 tomando la referencia de la factura original, anexo archivo con las Notas de crédito Cross y las Notas de crédito correctas (Columna G y H).\\n\\nQuedo a la orden para cualquier duda.\\n\\nSaludos!\\n\\n[cid:image001.png@01D7CCE8.CF855620]\\nMaría del Carmen Osorio Hernández\\nBUSINESS SERVICE ORGANIZATION MEXICO\\n\\n\\n\\nFrom: Martha Laura Saenz Campos <marthalaura.saenzc@cemex.com< mailto:marthalaura.saenzc@cemex.com >>\\nSent: Tuesday, October 26, 2021 11:54 AM\\nTo: Maria Del Carmen Osorio Hernandez <MariaDelCarmen.OsorioHernandez@cemex.com< mailto:MariaDelCarmen.OsorioHernandez@cemex.com >>\\nCc: Maria Isabel Martinez Garza <mariaisabel.martinez@cemex.com< mailto:mariaisabel.martinez@cemex.com >>; Javier Alejandro Cantu Briviezca <javieralejandro.cantub@cemex.com< mailto:javieralejandro.cantub@cemex.com >>; Nayeli Tovar Zarate <nayeli.tovar@neoris.com< mailto:nayeli.tovar@neoris.com >>\\nSubject: RE: Documentos con IVA 8% en pasivo\\n\\nHola Carmen,\\n\\nEstas 3 no están registradas del lado de CXP, el resto si:\\n\\nNcred IVA 16%\\nReferencia\\nDocto CXP\\n202591336\\nZLC-03455289\\n#N/A\\n202591344\\nZLC-03455298\\n#N/A\\n202591343\\nZLC-03455297\\n#N/A\\n\\nYa solo tenemos 33 documentos (archivo anexo) con IVA 8%.\\nSaludos,\\nMS\\n\\nFrom: Maria Del Carmen Osorio Hernandez <MariaDelCarmen.OsorioHernandez@cemex.com< mailto:MariaDelCarmen.OsorioHernandez@cemex.com >>\\nSent: Tuesday, October 26, 2021 9:18 AM\\nTo: Martha Laura Saenz Campos <marthalaura.saenzc@cemex.com< mailto:marthalaura.saenzc@cemex.com >>\\nCc: Maria Isabel Martinez Garza <mariaisabel.martinez@cemex.com< mailto:mariaisabel.martinez@cemex.com >>; Javier Alejandro Cantu Briviezca <javieralejandro.cantub@cemex.com< mailto:javieralejandro.cantub@cemex.com >>; Nayeli Tovar Zarate <nayeli.tovar@neoris.com< mailto:nayeli.tovar@neoris.com >>\\nSubject: FW: Documentos con IVA 8% en pasivo\\n\\nHola Martha, buen día,\\n\\nClaro, anexo archivo.\\n\\nCualquier duda quedo a la orden.\\n\\nSaludos!\\n\\nFrom: Martha Laura Saenz Campos <marthalaura.saenzc@cemex.com< mailto:mart'\n",
    "#input_fulldesc = 'CEDISE: AsesoriaUsuario solicita sincronizacion de contraseñas'\n",
    "input_fulldesc = '4518643896GSC, buen día.\\n\\nSe está tratando de reabrir la orden de compra 4518643896 en la transacción ME22N, quitando el indicador de \"Entrega final\" y obtenemos el siguiente error, nos podrían apoyar.\\n\\nEsta orden está liberada parcialmente y si tiene facturas cotejadas pero estaríamos activando y trabajando con lo que aun no se libera.\\n\\n[cid:image001.png@01D7CA98.C7350760]\\n\\nGracias,\\n\\n[cid:image002.png@01D7CA98.C7350760]\\nGrace Bajo Niebla\\nNegociaciones Nacionales - Abasto - México\\nOficina: +52(81)83287357   Celular: +52(81)17905418  CEMEX Net: 805207357\\nDirección: Av. Constitución #444 Pte. C.P.64000. Monterrey, N.L.\\ne-Mail: grace.bajo@cemex.com< mailto:grace.bajo@cemex.com >\\nwww.cemexsupply.com< https://nam04.safelinks.protection.outlook.com/?url=http%3A%2F%2Fwww.cemexsupply.com%2F&data=04%7C01%7Cgrace.bajo%40cemex.com%7Cb309090c3d004258318608d8b1080d81%7C6ee19001d0c445f8af8bff00f16d07e1%7C0%7C0%7C637453995451107045%7CUnknown%7CTWFpbGZsb3d8eyJWIjoiMC4wLjAwMDAiLCJQIjoiV2luMzIiLCJBTiI6Ik1haWwiLCJXVCI6Mn0%3D%7C1000&sdata=MkHcVcWNmRY1qnxcSkIXmvqS5IH1mFE%2BPQic4Pak%2B6M%3D&reserved=0 >\\n\\n\\n\\n[Screenshot 1 saved as attachment image0011635291932313.png by e-mail listener.]\\n[Screenshot 2 saved as attachment image0021635291932341.png by e-mail listener.]'\n"
   ]
  },
  {
   "cell_type": "code",
   "execution_count": 13,
   "id": "2c2e7bfb-94b3-45ac-82ed-7e81aee4357e",
   "metadata": {},
   "outputs": [
    {
     "data": {
      "text/plain": [
       "('I-CEX-NOAM-IT-GSC-L1', 'SR12345', 'Mexico')"
      ]
     },
     "execution_count": 13,
     "metadata": {},
     "output_type": "execute_result"
    }
   ],
   "source": [
    "## Output\n",
    "X_data = BPD.transform(input_ticketid,input_fulldesc,input_country)\n",
    "y_predicted = predict_model.predict(X_data)\n",
    "BPD.real_value(y_predicted)\n"
   ]
  },
  {
   "cell_type": "code",
   "execution_count": null,
   "id": "17ee4a62-2c6d-4b34-9020-ce6b2570da55",
   "metadata": {},
   "outputs": [],
   "source": []
  }
 ],
 "metadata": {
  "kernelspec": {
   "display_name": "Python 3 (ipykernel)",
   "language": "python",
   "name": "python3"
  },
  "language_info": {
   "codemirror_mode": {
    "name": "ipython",
    "version": 3
   },
   "file_extension": ".py",
   "mimetype": "text/x-python",
   "name": "python",
   "nbconvert_exporter": "python",
   "pygments_lexer": "ipython3",
   "version": "3.9.7"
  }
 },
 "nbformat": 4,
 "nbformat_minor": 5
}
